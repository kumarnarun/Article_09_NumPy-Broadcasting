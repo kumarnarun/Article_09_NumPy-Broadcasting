{
 "cells": [
  {
   "cell_type": "code",
   "execution_count": null,
   "id": "6bac42be",
   "metadata": {},
   "outputs": [],
   "source": [
    "from PIL import Image, ImageDraw\n",
    "import random\n",
    "\n",
    "# Define the size of the images\n",
    "image_size = 256\n",
    "\n",
    "# Define the size and position of the circle image\n",
    "circle_size = int(image_size * 0.8)\n",
    "circle_color = (0, 0, 0)\n",
    "circle_radius = int(circle_size / 2)\n",
    "\n",
    "# Define the size and position of the pinhole circle\n",
    "pinhole_size = int(image_size * 0.02)\n",
    "pinhole_color = (255, 0, 0)\n",
    "\n",
    "# Define the number of images to generate\n",
    "num_images = 100\n",
    "\n",
    "# Loop through each image\n",
    "for i in range(num_images):\n",
    "\n",
    "    # Create a new blank image\n",
    "    image = Image.new('RGB', (image_size, image_size), (255, 255, 255))\n",
    "\n",
    "    # Draw the circle image\n",
    "    draw = ImageDraw.Draw(image)\n",
    "    circle_position = (random.randint(0, image_size - circle_size), random.randint(0, image_size - circle_size))\n",
    "    draw.ellipse((circle_position, (circle_position[0] + circle_size, circle_position[1] + circle_size)), fill=circle_color)\n",
    "\n",
    "    # Calculate the position of the pinhole circle\n",
    "    pinhole_x = circle_position[0] + circle_radius - int(pinhole_size / 2)\n",
    "    pinhole_y = circle_position[1] + circle_radius - int(pinhole_size / 2)\n",
    "\n",
    "    # Shift the position of the pinhole circle randomly\n",
    "    pinhole_shift_x = int(circle_radius * 0.5 * (2 * random.random() - 1))\n",
    "    pinhole_shift_y = int(circle_radius * 0.5 * (2 * random.random() - 1))\n",
    "    pinhole_x += pinhole_shift_x\n",
    "    pinhole_y += pinhole_shift_y\n",
    "\n",
    "    # Draw the pinhole circle\n",
    "    draw.ellipse((pinhole_x, pinhole_y, pinhole_x + pinhole_size, pinhole_y + pinhole_size), fill=pinhole_color)\n",
    "\n",
    "    # Save the image\n",
    "    image.save(f'image_{i}.png')\n",
    "\n"
   ]
  }
 ],
 "metadata": {
  "kernelspec": {
   "display_name": "Python 3 (ipykernel)",
   "language": "python",
   "name": "python3"
  },
  "language_info": {
   "codemirror_mode": {
    "name": "ipython",
    "version": 3
   },
   "file_extension": ".py",
   "mimetype": "text/x-python",
   "name": "python",
   "nbconvert_exporter": "python",
   "pygments_lexer": "ipython3",
   "version": "3.9.12"
  }
 },
 "nbformat": 4,
 "nbformat_minor": 5
}
