{
 "cells": [
  {
   "cell_type": "code",
   "execution_count": 1,
   "id": "f7d50e7e",
   "metadata": {},
   "outputs": [],
   "source": [
    "import numpy as np\n",
    "import cv2"
   ]
  },
  {
   "cell_type": "code",
   "execution_count": 2,
   "id": "141a61fd",
   "metadata": {},
   "outputs": [
    {
     "data": {
      "text/plain": [
       "True"
      ]
     },
     "execution_count": 2,
     "metadata": {},
     "output_type": "execute_result"
    }
   ],
   "source": [
    "import cv2\n",
    "import numpy as np\n",
    "\n",
    "# Load the original image\n",
    "image = cv2.imread('arun01.jpg')\n",
    "\n",
    "# Define the hexagon vertices\n",
    "vertices = np.array([[50, 100], [200, 50], [350, 100], [350, 300], [200, 350], [50, 300]], dtype=np.int32)\n",
    "\n",
    "# Create a mask of the same shape as the image\n",
    "mask = np.zeros_like(image)\n",
    "\n",
    "# Fill the hexagon shape in the mask\n",
    "cv2.fillPoly(mask, [vertices], (255, 255, 255))\n",
    "\n",
    "# Bitwise AND the image and the mask to extract the region inside the hexagon\n",
    "hexagon_image = cv2.bitwise_and(image, mask)\n",
    "\n",
    "# Save the image with the hexagon shape\n",
    "cv2.imwrite('hexagon_image.jpg', hexagon_image)\n"
   ]
  },
  {
   "cell_type": "code",
   "execution_count": 8,
   "id": "81375730",
   "metadata": {},
   "outputs": [
    {
     "data": {
      "text/plain": [
       "True"
      ]
     },
     "execution_count": 8,
     "metadata": {},
     "output_type": "execute_result"
    }
   ],
   "source": [
    "import cv2\n",
    "import numpy as np\n",
    "\n",
    "# Load the original image\n",
    "image = cv2.imread('arun01.jpg')\n",
    "\n",
    "# Define the hexagon vertices\n",
    "vertices = np.array([[50, 100], [200, 50], [350, 100], [350, 300], [200, 350], [50, 300]], dtype=np.int32)\n",
    "\n",
    "# Create a mask of the same shape as the image\n",
    "mask = np.zeros_like(image)\n",
    "\n",
    "# Fill the hexagon shape in the mask\n",
    "cv2.fillPoly(mask, [vertices], (0,0,0))\n",
    "\n",
    "# Bitwise AND the image and the mask to extract the region inside the hexagon\n",
    "hexagon_image = cv2.bitwise_and(image, mask)\n",
    "\n",
    "# Save the image with the hexagon shape\n",
    "cv2.imwrite('hexagon_image5.jpg', hexagon_image)\n"
   ]
  },
  {
   "cell_type": "code",
   "execution_count": 3,
   "id": "1690020f",
   "metadata": {},
   "outputs": [
    {
     "data": {
      "text/plain": [
       "True"
      ]
     },
     "execution_count": 3,
     "metadata": {},
     "output_type": "execute_result"
    }
   ],
   "source": [
    "import cv2\n",
    "import numpy as np\n",
    "\n",
    "# Load the original image\n",
    "image = cv2.imread('arun01.jpg')\n",
    "\n",
    "# Define the hexagon vertices\n",
    "vertices = np.array([[50, 100], [200, 50], [350, 100], [350, 300], [200, 350], [50, 300]], dtype=np.int32)\n",
    "\n",
    "# Create a black image with the same shape as the original image\n",
    "mask = np.zeros_like(image)\n",
    "\n",
    "# Fill the hexagon shape in the mask with white color\n",
    "cv2.fillPoly(mask, [vertices], (255, 255, 255))\n",
    "\n",
    "# Bitwise AND the image and the mask to keep only the region inside the hexagon\n",
    "hexagon_image = cv2.bitwise_and(image, mask)\n",
    "\n",
    "# Save the image with only the region inside the hexagon\n",
    "cv2.imwrite('hexagon_image1.jpg', hexagon_image)\n"
   ]
  },
  {
   "cell_type": "code",
   "execution_count": 4,
   "id": "24041e2c",
   "metadata": {},
   "outputs": [
    {
     "data": {
      "text/plain": [
       "True"
      ]
     },
     "execution_count": 4,
     "metadata": {},
     "output_type": "execute_result"
    }
   ],
   "source": [
    "import cv2\n",
    "import numpy as np\n",
    "\n",
    "# Load the original image\n",
    "image = cv2.imread('arun01.jpg')\n",
    "\n",
    "# Define the hexagon vertices\n",
    "vertices = np.array([[50, 100], [200, 50], [350, 100], [350, 300], [200, 350], [50, 300]], dtype=np.int32)\n",
    "\n",
    "# Create a black image with the same shape as the original image\n",
    "mask = np.zeros_like(image)\n",
    "\n",
    "# Fill the hexagon shape in the mask with white color\n",
    "cv2.fillPoly(mask, [vertices], (255, 255, 255))\n",
    "\n",
    "# Invert the mask\n",
    "mask_inverse = cv2.bitwise_not(mask)\n",
    "\n",
    "# Bitwise AND the image and the inverted mask to remove the pixels outside the hexagon\n",
    "hexagon_image = cv2.bitwise_and(image, mask_inverse)\n",
    "\n",
    "# Save the image with only the region inside the hexagon\n",
    "cv2.imwrite('hexagon_image2.jpg', hexagon_image)\n"
   ]
  },
  {
   "cell_type": "code",
   "execution_count": 6,
   "id": "266a13c5",
   "metadata": {},
   "outputs": [
    {
     "data": {
      "text/plain": [
       "True"
      ]
     },
     "execution_count": 6,
     "metadata": {},
     "output_type": "execute_result"
    }
   ],
   "source": [
    "import cv2\n",
    "import numpy as np\n",
    "\n",
    "# Load the original image\n",
    "image = cv2.imread('arun01.jpg')\n",
    "\n",
    "# Define the dimensions of the hexagon\n",
    "hexagon_width = 300\n",
    "hexagon_height = 300\n",
    "\n",
    "# Calculate the center of the hexagon\n",
    "center_x = int(image.shape[1] / 2)\n",
    "center_y = int(image.shape[0] / 2)\n",
    "\n",
    "# Calculate the vertices of the hexagon\n",
    "vertices = np.array([\n",
    "    [center_x - hexagon_width // 2, center_y - int(hexagon_height * np.sqrt(3) / 2)],\n",
    "    [center_x + hexagon_width // 2, center_y - int(hexagon_height * np.sqrt(3) / 2)],\n",
    "    [center_x + hexagon_width, center_y],\n",
    "    [center_x + hexagon_width // 2, center_y + int(hexagon_height * np.sqrt(3) / 2)],\n",
    "    [center_x - hexagon_width // 2, center_y + int(hexagon_height * np.sqrt(3) / 2)],\n",
    "    [center_x - hexagon_width, center_y]\n",
    "], dtype=np.int32)\n",
    "\n",
    "# Create a black image as the background\n",
    "background = np.zeros_like(image)\n",
    "\n",
    "# Fill the hexagon shape in the background with white color\n",
    "cv2.fillPoly(background, [vertices], (255, 255, 255))\n",
    "\n",
    "# Resize the original image to match the hexagon size\n",
    "resized_image = cv2.resize(image, (hexagon_width, hexagon_height))\n",
    "\n",
    "# Bitwise AND the resized image and the background to extract the hexagon-shaped region\n",
    "\n",
    "\n",
    "# Save the cropped image\n",
    "cv2.imwrite('cropped_image.jpg', resized_image)\n"
   ]
  },
  {
   "cell_type": "code",
   "execution_count": 9,
   "id": "dbb34703",
   "metadata": {},
   "outputs": [
    {
     "data": {
      "text/plain": [
       "True"
      ]
     },
     "execution_count": 9,
     "metadata": {},
     "output_type": "execute_result"
    }
   ],
   "source": [
    "import cv2\n",
    "import numpy as np\n",
    "\n",
    "# Load the original image\n",
    "image = cv2.imread('arun01.jpg')\n",
    "\n",
    "# Define the hexagon vertices\n",
    "vertices = np.array([[50, 100], [200, 50], [350, 100], [350, 300], [200, 350], [50, 300]], dtype=np.int32)\n",
    "\n",
    "# Create a black image with the same shape as the original image\n",
    "background = np.zeros_like(image)\n",
    "\n",
    "# Fill the background with white color\n",
    "background[:] = (255, 255, 255)\n",
    "\n",
    "# Create a mask with the same shape as the image\n",
    "mask = np.zeros_like(image)\n",
    "\n",
    "# Fill the hexagon shape in the mask\n",
    "cv2.fillPoly(mask, [vertices], (255, 255, 255))\n",
    "\n",
    "# Bitwise AND the image and the mask to extract the region inside the hexagon\n",
    "hexagon_image = cv2.bitwise_and(image, mask)\n",
    "\n",
    "# Bitwise AND the background and the inverted mask to extract the region outside the hexagon\n",
    "background_outside = cv2.bitwise_and(background, cv2.bitwise_not(mask))\n",
    "\n",
    "# Add the hexagon image and the background outside the hexagon\n",
    "result = cv2.add(hexagon_image, background_outside)\n",
    "\n",
    "# Save the resulting image\n",
    "cv2.imwrite('hexagon_image_arun.jpg', result)\n"
   ]
  },
  {
   "cell_type": "code",
   "execution_count": 10,
   "id": "abfc95f4",
   "metadata": {},
   "outputs": [
    {
     "data": {
      "text/plain": [
       "True"
      ]
     },
     "execution_count": 10,
     "metadata": {},
     "output_type": "execute_result"
    }
   ],
   "source": [
    "import cv2\n",
    "import numpy as np\n",
    "\n",
    "# Load the original image\n",
    "image = cv2.imread('arun01.jpg')\n",
    "\n",
    "# Define the circle center and radius\n",
    "center = (200, 200)\n",
    "radius = 150\n",
    "\n",
    "# Create a black image with the same shape as the original image\n",
    "background = np.zeros_like(image)\n",
    "\n",
    "# Fill the background with white color\n",
    "background[:] = (255, 255, 255)\n",
    "\n",
    "# Create a mask with the same shape as the image\n",
    "mask = np.zeros_like(image)\n",
    "\n",
    "# Draw a circle on the mask\n",
    "cv2.circle(mask, center, radius, (255, 255, 255), -1)\n",
    "\n",
    "# Bitwise AND the image and the mask to extract the region inside the circle\n",
    "circle_image = cv2.bitwise_and(image, mask)\n",
    "\n",
    "# Bitwise AND the background and the inverted mask to extract the region outside the circle\n",
    "background_outside = cv2.bitwise_and(background, cv2.bitwise_not(mask))\n",
    "\n",
    "# Add the circle image and the background outside the circle\n",
    "result = cv2.add(circle_image, background_outside)\n",
    "\n",
    "# Save the resulting image\n",
    "cv2.imwrite('circle_image.jpg', result)\n"
   ]
  },
  {
   "cell_type": "code",
   "execution_count": 11,
   "id": "456340ee",
   "metadata": {},
   "outputs": [
    {
     "data": {
      "text/plain": [
       "True"
      ]
     },
     "execution_count": 11,
     "metadata": {},
     "output_type": "execute_result"
    }
   ],
   "source": [
    "import cv2\n",
    "import numpy as np\n",
    "\n",
    "# Load the original image\n",
    "image = cv2.imread('arun01.jpg')\n",
    "\n",
    "# Define the heart shape vertices\n",
    "heart_vertices = np.array([[250, 180], [160, 100], [80, 180], [160, 260]], dtype=np.int32)\n",
    "\n",
    "# Create a black image with the same shape as the original image\n",
    "background = np.zeros_like(image)\n",
    "\n",
    "# Fill the background with white color\n",
    "background[:] = (255, 255, 255)\n",
    "\n",
    "# Create a mask with the same shape as the image\n",
    "mask = np.zeros_like(image)\n",
    "\n",
    "# Fill the heart shape in the mask\n",
    "cv2.fillPoly(mask, [heart_vertices], (255, 255, 255))\n",
    "\n",
    "# Bitwise AND the image and the mask to extract the region inside the heart\n",
    "heart_image = cv2.bitwise_and(image, mask)\n",
    "\n",
    "# Bitwise AND the background and the inverted mask to extract the region outside the heart\n",
    "background_outside = cv2.bitwise_and(background, cv2.bitwise_not(mask))\n",
    "\n",
    "# Add the heart image and the background outside the heart\n",
    "result = cv2.add(heart_image, background_outside)\n",
    "\n",
    "# Save the resulting image\n",
    "cv2.imwrite('heart_image.jpg', result)"
   ]
  },
  {
   "cell_type": "code",
   "execution_count": 12,
   "id": "124bf9d8",
   "metadata": {},
   "outputs": [
    {
     "data": {
      "text/plain": [
       "True"
      ]
     },
     "execution_count": 12,
     "metadata": {},
     "output_type": "execute_result"
    }
   ],
   "source": [
    "import cv2\n",
    "import numpy as np\n",
    "\n",
    "# Load the original image\n",
    "image = cv2.imread('arun01.jpg')\n",
    "\n",
    "# Define the heart shape template\n",
    "heart_template = np.zeros_like(image)\n",
    "heart_template = cv2.ellipse(heart_template, (image.shape[1] // 2, image.shape[0] // 2),\n",
    "                             (image.shape[1] // 3, image.shape[0] // 3), 0, 0, 360, (255, 255, 255), -1)\n",
    "\n",
    "# Create a black image with the same shape as the original image\n",
    "background = np.zeros_like(image)\n",
    "\n",
    "# Fill the background with white color\n",
    "background[:] = (255, 255, 255)\n",
    "\n",
    "# Bitwise AND the image and the heart template to extract the region inside the heart\n",
    "heart_image = cv2.bitwise_and(image, heart_template)\n",
    "\n",
    "# Bitwise AND the background and the inverted heart template to extract the region outside the heart\n",
    "background_outside = cv2.bitwise_and(background, cv2.bitwise_not(heart_template))\n",
    "\n",
    "# Add the heart image and the background outside the heart\n",
    "result = cv2.add(heart_image, background_outside)\n",
    "\n",
    "# Save the resulting image\n",
    "cv2.imwrite('heart_image1.jpg', result)\n"
   ]
  },
  {
   "cell_type": "code",
   "execution_count": 13,
   "id": "25272c27",
   "metadata": {},
   "outputs": [
    {
     "ename": "ValueError",
     "evalue": "could not broadcast input array from shape (306,203,3) into shape (306,612,3)",
     "output_type": "error",
     "traceback": [
      "\u001b[1;31m---------------------------------------------------------------------------\u001b[0m",
      "\u001b[1;31mValueError\u001b[0m                                Traceback (most recent call last)",
      "Input \u001b[1;32mIn [13]\u001b[0m, in \u001b[0;36m<cell line: 24>\u001b[1;34m()\u001b[0m\n\u001b[0;32m     22\u001b[0m \u001b[38;5;66;03m# Resize and arrange the second image on the canvas\u001b[39;00m\n\u001b[0;32m     23\u001b[0m resized_image2 \u001b[38;5;241m=\u001b[39m cv2\u001b[38;5;241m.\u001b[39mresize(image2, (image2\u001b[38;5;241m.\u001b[39mshape[\u001b[38;5;241m1\u001b[39m] \u001b[38;5;241m/\u001b[39m\u001b[38;5;241m/\u001b[39m \u001b[38;5;241m2\u001b[39m, image2\u001b[38;5;241m.\u001b[39mshape[\u001b[38;5;241m0\u001b[39m] \u001b[38;5;241m/\u001b[39m\u001b[38;5;241m/\u001b[39m \u001b[38;5;241m2\u001b[39m))\n\u001b[1;32m---> 24\u001b[0m collage[\u001b[38;5;241m0\u001b[39m:image2\u001b[38;5;241m.\u001b[39mshape[\u001b[38;5;241m0\u001b[39m] \u001b[38;5;241m/\u001b[39m\u001b[38;5;241m/\u001b[39m \u001b[38;5;241m2\u001b[39m, image1\u001b[38;5;241m.\u001b[39mshape[\u001b[38;5;241m1\u001b[39m] \u001b[38;5;241m/\u001b[39m\u001b[38;5;241m/\u001b[39m \u001b[38;5;241m2\u001b[39m:] \u001b[38;5;241m=\u001b[39m resized_image2\n\u001b[0;32m     26\u001b[0m \u001b[38;5;66;03m# Resize and arrange the third image on the canvas\u001b[39;00m\n\u001b[0;32m     27\u001b[0m resized_image3 \u001b[38;5;241m=\u001b[39m cv2\u001b[38;5;241m.\u001b[39mresize(image3, (image3\u001b[38;5;241m.\u001b[39mshape[\u001b[38;5;241m1\u001b[39m] \u001b[38;5;241m/\u001b[39m\u001b[38;5;241m/\u001b[39m \u001b[38;5;241m2\u001b[39m, image3\u001b[38;5;241m.\u001b[39mshape[\u001b[38;5;241m0\u001b[39m] \u001b[38;5;241m/\u001b[39m\u001b[38;5;241m/\u001b[39m \u001b[38;5;241m2\u001b[39m))\n",
      "\u001b[1;31mValueError\u001b[0m: could not broadcast input array from shape (306,203,3) into shape (306,612,3)"
     ]
    }
   ],
   "source": [
    "import cv2\n",
    "import numpy as np\n",
    "\n",
    "# Load the images for the collage\n",
    "image1 = cv2.imread('arun01.jpg')\n",
    "image2 = cv2.imread('arun02.jpg')\n",
    "image3 = cv2.imread('my_rabbit01.jpg')\n",
    "\n",
    "# Determine the dimensions of the collage canvas\n",
    "num_rows = 2\n",
    "num_cols = 2\n",
    "canvas_width = image1.shape[1] * num_cols\n",
    "canvas_height = image1.shape[0] * num_rows\n",
    "\n",
    "# Create a blank canvas for the collage\n",
    "collage = np.zeros((canvas_height, canvas_width, 3), dtype=np.uint8)\n",
    "\n",
    "# Resize and arrange the first image on the canvas\n",
    "resized_image1 = cv2.resize(image1, (image1.shape[1] // 2, image1.shape[0] // 2))\n",
    "collage[0:image1.shape[0] // 2, 0:image1.shape[1] // 2] = resized_image1\n",
    "\n",
    "# Resize and arrange the second image on the canvas\n",
    "resized_image2 = cv2.resize(image2, (image2.shape[1] // 2, image2.shape[0] // 2))\n",
    "collage[0:image2.shape[0] // 2, image1.shape[1] // 2:] = resized_image2\n",
    "\n",
    "# Resize and arrange the third image on the canvas\n",
    "resized_image3 = cv2.resize(image3, (image3.shape[1] // 2, image3.shape[0] // 2))\n",
    "collage[image2.shape[0] // 2:, 0:image3.shape[1] // 2] = resized_image3\n",
    "\n",
    "# Display the collage\n",
    "cv2.imshow('Collage', collage)\n",
    "cv2.waitKey(0)\n",
    "cv2.destroyAllWindows()\n",
    "\n",
    "# Save the collage image\n",
    "cv2.imwrite('collage.jpg', collage)\n"
   ]
  }
 ],
 "metadata": {
  "kernelspec": {
   "display_name": "Python 3 (ipykernel)",
   "language": "python",
   "name": "python3"
  },
  "language_info": {
   "codemirror_mode": {
    "name": "ipython",
    "version": 3
   },
   "file_extension": ".py",
   "mimetype": "text/x-python",
   "name": "python",
   "nbconvert_exporter": "python",
   "pygments_lexer": "ipython3",
   "version": "3.9.12"
  }
 },
 "nbformat": 4,
 "nbformat_minor": 5
}
